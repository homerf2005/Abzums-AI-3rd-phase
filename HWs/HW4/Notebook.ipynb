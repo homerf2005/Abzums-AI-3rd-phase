{
 "cells": [
  {
   "cell_type": "markdown",
   "id": "94db5993",
   "metadata": {},
   "source": [
    "# Assignment 4: Project 1\n",
    "\n",
    "**Course:** AbzumsAI Programming 1404\n",
    "\n",
    "**Instructor:** Mr. Ali Mohammadzadeh Shabestari\n",
    "\n",
    "**Date Assigned:** July 1, 2025\n",
    "\n",
    "**Deadline:** TBA"
   ]
  },
  {
   "cell_type": "markdown",
   "id": "33f31543",
   "metadata": {},
   "source": [
    "In this project, you will build a classic Tic Tac Toe game that runs in the terminal. Two players take turns choosing positions on a 3×3 grid, trying to get three of their marks (X or O) in a row, column, or diagonal. The game should announce a win, tie, or continue until one of those outcomes is reached.\n",
    "\n",
    "This project helps you apply and connect key Python concepts you’ve learned so far:\n",
    "- Working with lists to represent the game board\n",
    "- Using if/else conditions to check for valid moves and winning logic\n",
    "- Repeating the game flow with while loops\n",
    "- Organizing your program into reusable functions\n",
    "- Handling user input and basic error checking\n",
    "\n",
    "By the end, you’ll have a complete working game and a strong understanding of how to structure and build small Python programs."
   ]
  },
  {
   "cell_type": "markdown",
   "id": "ed63b194",
   "metadata": {},
   "source": [
    "## 🧩 Step 1: Initialize the Game Board\n",
    "- Create a list with 9 elements (strings like \\\"-\\\") to represent an empty board.\n",
    "- Use indices 0–8 to refer to board positions:"
   ]
  },
  {
   "cell_type": "code",
   "execution_count": 2,
   "id": "0a7b099d",
   "metadata": {},
   "outputs": [],
   "source": [
    "res = [\"-\", \"-\", \"-\", \"-\", \"-\", \"-\", \"-\", \"-\", \"-\"]\n"
   ]
  },
  {
   "cell_type": "markdown",
   "id": "8ba574b2",
   "metadata": {},
   "source": [
    "## 🧩 Step 2: Display the Game Board\n",
    "Write a function to:\n",
    "- Print the board in a user-friendly format.\n",
    "- You can yuse the format in Step 1."
   ]
  },
  {
   "cell_type": "code",
   "execution_count": 3,
   "id": "ef39e765",
   "metadata": {},
   "outputs": [],
   "source": [
    "def show_res(res):    \n",
    "    print(res[0], end=\" | \")\n",
    "    print(res[1], end=\" | \")\n",
    "    print(res[2])\n",
    "    print(res[3], end=\" | \")\n",
    "    print(res[4], end=\" | \")\n",
    "    print(res[5])\n",
    "    print(res[6], end=\" | \")\n",
    "    print(res[7], end=\" | \")\n",
    "    print(res[8])"
   ]
  },
  {
   "cell_type": "markdown",
   "id": "d6da3b87",
   "metadata": {},
   "source": [
    "## 🧩 Step 3: Define the Players\n",
    "\n",
    "Write a function to:\n",
    "- Ask Player 1 to choose a symbol: \"X\" or \"O\". (Ask with `input()`)\n",
    "- Assign the remaining symbol to Player 2.\n",
    "- Validate that the input is correct (only allow \"X\" or \"O\").\n",
    "\n",
    "💡 HINT: Use variables `player1`, `player2` and `current_player`."
   ]
  },
  {
   "cell_type": "code",
   "execution_count": 5,
   "id": "c63c5444",
   "metadata": {},
   "outputs": [],
   "source": [
    "def symbol_and_first():\n",
    "    global a, b, curr\n",
    "    while True:\n",
    "        a = input(\"Hey player 1, choose your symbol (X/O). \\n\")\n",
    "        a = a.upper()\n",
    "        if a not in (\"X\", \"O\"):\n",
    "            print(\"Invalid input, try again. \\n\")\n",
    "        else:\n",
    "            break\n",
    "    print(f\"Ok, player 1 is {a}\")\n",
    "    if a == \"O\":\n",
    "        b = \"X\"\n",
    "        print(\"Player 2 is X\")\n",
    "    else:\n",
    "        b = \"O\"\n",
    "        print(\"Player 2 is O\")\n",
    "\n",
    "    a = (1, a)\n",
    "    b = (2, b)\n",
    "\n",
    "    x = random.randint(1, 2)\n",
    "    print(f\"Player {x} is first\")\n",
    "    curr = x\n",
    "\n",
    "\n"
   ]
  },
  {
   "cell_type": "markdown",
   "id": "d62adca2",
   "metadata": {},
   "source": [
    "## 🧩 Step 4: Create a Player Move Function\n",
    "\n",
    "Write a function to:\n",
    "- Ask the current player to choose a number from 1 to 9.\n",
    "- Convert it to the correct board index (subtract 1).\n",
    "- Check that the position is not already taken (`-`).\n",
    "- If valid, update the board with the player’s symbol.\n",
    "- Otherwise, ask again until a valid move is made.\n",
    "- NOTE: Inputs must be 1, 2, ..., 9 but real indices are 0, 1, ..., 8."
   ]
  },
  {
   "cell_type": "code",
   "execution_count": null,
   "id": "3edec7bf",
   "metadata": {},
   "outputs": [],
   "source": [
    "def turn():\n",
    "    global a, b, curr\n",
    "    while True:\n",
    "        try:\n",
    "            p1 = int(input(f\"Player {curr[0]}, your turn.\\n\"))\n",
    "        except ValueError:\n",
    "            print(\"Enter a valid number\")\n",
    "            continue\n",
    "        if p1 in range(1, 10) and res[p1 - 1] == \"-\":\n",
    "            res[p1 - 1] = curr[1]\n",
    "            show_res(res)\n",
    "            break\n",
    "        elif p1 in range(1, 10):\n",
    "            print(f\"{p1} is chosen. Try another one\")\n",
    "            show_res(res)\n",
    "        else:\n",
    "            print(\"your input is not in range 1 to 9, try again.\")\n",
    "\n",
    "    curr = b if curr == a else a\n"
   ]
  },
  {
   "cell_type": "markdown",
   "id": "bffb8605",
   "metadata": {},
   "source": [
    "## 🧩 Step 5: Check for a Winner\n",
    "\n",
    "Write a function to check if the game has been won (after every move):\n",
    "- Rows: positions [0,1,2], [3,4,5], [6,7,8]\n",
    "- Columns: positions [0,3,6], [1,4,7], [2,5,8]\n",
    "- Diagonals: [0,4,8] and [2,4,6]\n",
    "\n",
    "Also consider Ties, when no `-` is left in board.\n",
    "\n",
    "💡 HINT: Check all mentioned states with `if/else`."
   ]
  },
  {
   "cell_type": "code",
   "execution_count": null,
   "id": "9d804082",
   "metadata": {},
   "outputs": [],
   "source": [
    "def winner(res):\n",
    "    win_combinations = [\n",
    "        (0, 1, 2), (3, 4, 5), (6, 7, 8),  # Rows\n",
    "        (0, 3, 6), (1, 4, 7), (2, 5, 8),  # Columns\n",
    "        (0, 4, 8), (2, 4, 6)              # Diagonals\n",
    "    ]\n",
    "    for i, j, k in win_combinations:\n",
    "        if res[i] == res[j] == res[k] != \"-\":\n",
    "            return True\n",
    "    return False\n"
   ]
  },
  {
   "cell_type": "markdown",
   "id": "06fabdc9",
   "metadata": {},
   "source": [
    "## 🧩 Step 7: Flip the Current Player\n",
    "Write a function to:\n",
    "- After each valid move, switch `current_player` to the other player (\\\"X\\\" ↔ \\\"O\\\").\n",
    "- Use a simple if/else or ternary expression."
   ]
  },
  {
   "cell_type": "code",
   "execution_count": null,
   "id": "4005ff6d",
   "metadata": {},
   "outputs": [],
   "source": [
    "curr = (\"\",\"\")\n",
    "# is expressed on the turn() functions on Step 4"
   ]
  },
  {
   "cell_type": "markdown",
   "id": "bcf28a04",
   "metadata": {},
   "source": [
    "## 🧩 Step 8: Loop Until the Game Ends\n",
    "Use a `while` loop to keep the game running until:\n",
    "- A player wins\n",
    "- It’s a tie"
   ]
  },
  {
   "cell_type": "code",
   "execution_count": null,
   "id": "a1936632",
   "metadata": {},
   "outputs": [],
   "source": [
    "count = 0\n",
    "while True:\n",
    "    turn()\n",
    "    if winner(res):\n",
    "        curr = a if curr == b else b\n",
    "        print(f\"Player {curr[0]} won!\")\n",
    "        break\n",
    "    count += 1\n",
    "    if count == 9:\n",
    "        break\n",
    "if count == 9:\n",
    "    print(\"It's a draw!\")"
   ]
  }
 ],
 "metadata": {
  "kernelspec": {
   "display_name": "base",
   "language": "python",
   "name": "python3"
  },
  "language_info": {
   "codemirror_mode": {
    "name": "ipython",
    "version": 3
   },
   "file_extension": ".py",
   "mimetype": "text/x-python",
   "name": "python",
   "nbconvert_exporter": "python",
   "pygments_lexer": "ipython3",
   "version": "3.12.7"
  }
 },
 "nbformat": 4,
 "nbformat_minor": 5
}
