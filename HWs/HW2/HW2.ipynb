{
 "cells": [
  {
   "cell_type": "markdown",
   "id": "d9bcc2b8",
   "metadata": {},
   "source": [
    "# Assignment 2: Control Flow, Loop\n",
    "\n",
    "**Course:** AbzumsAI Programming 1404\n",
    "\n",
    "**Instructor:** Mr. Ali Mohammadzadeh Shabestari\n",
    "\n",
    "**Date Assigned:** June 15, 2025\n",
    "\n",
    "**Deadline:** June 18, 2025"
   ]
  },
  {
   "cell_type": "markdown",
   "id": "6e9a9d57",
   "metadata": {},
   "source": [
    "## Learning Objectives\n",
    "\n",
    "By the end of this notebook, you will:\n",
    "\n",
    "- Understand how to control program flow using if, elif, and else statements.\n",
    "\n",
    "- Learn how to write nested if statements and apply logical operators (and, or, not).\n",
    "\n",
    "- Use for loops to iterate over ranges, lists, strings, and other iterable objects.\n",
    "\n",
    "- Use while loops to execute code repeatedly while a condition is true.\n",
    "\n",
    "- Apply loop control statements (break and continue) to modify loop behavior.\n",
    "\n",
    "---"
   ]
  },
  {
   "cell_type": "markdown",
   "id": "bc082db1",
   "metadata": {},
   "source": [
    "# Cell 0: Student Information\n",
    "\n",
    "### Please enter your details for grading purposes:\n",
    "\n",
    "Your Name: Homer Fakouri\n",
    "\n",
    "Your Email:mfakouri2005@gmail.com\n",
    "\n",
    "Your Gthub Link:https://github.com/homerf2005"
   ]
  },
  {
   "cell_type": "markdown",
   "id": "b60f1c78",
   "metadata": {},
   "source": [
    "## Cell 1: `if`, `elif`, `else` Control Flow"
   ]
  },
  {
   "cell_type": "markdown",
   "id": "09b5c94a",
   "metadata": {},
   "source": [
    "Write a program that reads a temperature (integer input).\n",
    "\n",
    "- If temperature > 30, print \"It's a hot day.\"\n",
    "\n",
    "- If temperature > 20, print \"It's a nice day.\"\n",
    "\n",
    "- If temperature > 10, print \"It's a bit chilly.\"\n",
    "\n",
    "- Otherwise, print \"It's cold outside.\""
   ]
  },
  {
   "cell_type": "code",
   "execution_count": 4,
   "id": "23744f8c",
   "metadata": {},
   "outputs": [
    {
     "name": "stdout",
     "output_type": "stream",
     "text": [
      "It's a hot day.\n"
     ]
    }
   ],
   "source": [
    "temp = int(input())\n",
    "if temp > 30:\n",
    "    print(\"It's a hot day.\")\n",
    "elif temp > 20:\n",
    "    print(\"It's a hot day.\")\n",
    "elif temp > 10:\n",
    "    print(\"It's a bit chilly.\")\n",
    "else:\n",
    "    print(\"It's cold outside.\")"
   ]
  },
  {
   "cell_type": "markdown",
   "id": "60e5a456",
   "metadata": {},
   "source": [
    "## Cell 2: Nested `if` statements"
   ]
  },
  {
   "cell_type": "markdown",
   "id": "86b9f19e",
   "metadata": {},
   "source": [
    "Check concert eligibility.\n",
    "\n",
    "- Read user's age (integer input) and whether they have a ticket (boolean input: True/False).\n",
    "\n",
    "- If the user is 18 or older AND has a ticket, print \"You can enter the concert.\"\n",
    "\n",
    "- If the user is 18 or older BUT doesn't have a ticket, print \"You need a ticket to enter.\"\n",
    "\n",
    "- Otherwise, print \"You are too young for the concert.\"\n"
   ]
  },
  {
   "cell_type": "code",
   "execution_count": 6,
   "id": "bebd1432",
   "metadata": {},
   "outputs": [
    {
     "name": "stdout",
     "output_type": "stream",
     "text": [
      "You can enter the concert.\n"
     ]
    }
   ],
   "source": [
    "a = int(input(\"age\"))\n",
    "b = bool(input(\"ticket?\"))\n",
    "if a >= 18:\n",
    "    if b == True:\n",
    "        print(\"You can enter the concert.\")\n",
    "    else:\n",
    "        print(\"You need a ticket to enter.\")\n",
    "else:\n",
    "    print(\"You are too young for the concert.\")\n"
   ]
  },
  {
   "cell_type": "markdown",
   "id": "2df49f77",
   "metadata": {},
   "source": [
    "## Cell 3: Iterating over collections"
   ]
  },
  {
   "cell_type": "markdown",
   "id": "fe3ac152",
   "metadata": {},
   "source": [
    "- Create a list of 5 fruits.\n",
    "\n",
    "- Use a for loop to print \"I like [fruit]\" for each fruit in the list.\n",
    "\n",
    "- Then iterate over the string \"Python\" and print each letter on a separate line.\n"
   ]
  },
  {
   "cell_type": "code",
   "execution_count": 8,
   "id": "d3c5e8bb",
   "metadata": {},
   "outputs": [
    {
     "name": "stdout",
     "output_type": "stream",
     "text": [
      "I like apple\n",
      "I like orange\n",
      "I like pineapple\n",
      "I like banana\n",
      "I like Lime\n",
      "p\n",
      "y\n",
      "t\n",
      "h\n",
      "o\n",
      "n\n"
     ]
    }
   ],
   "source": [
    "fruits = [\"apple\", \"orange\", \"pineapple\", \"banana\", \"Lime\"]\n",
    "for i in fruits:\n",
    "    print(f\"I like {i}\")\n",
    "for i in \"python\":\n",
    "    print(i)\n"
   ]
  },
  {
   "cell_type": "markdown",
   "id": "7a9ee851",
   "metadata": {},
   "source": [
    "## Cell 4: `for` loop with `range()`"
   ]
  },
  {
   "cell_type": "markdown",
   "id": "bf0220d9",
   "metadata": {},
   "source": [
    "Use a for loop to:\n",
    "\n",
    "a) Print numbers from 1 to 10.\n",
    "\n",
    "b) Calculate and print the sum of numbers from 1 to 10.\n"
   ]
  },
  {
   "cell_type": "code",
   "execution_count": 12,
   "id": "f4255b85",
   "metadata": {},
   "outputs": [
    {
     "name": "stdout",
     "output_type": "stream",
     "text": [
      "1\n",
      "2\n",
      "3\n",
      "4\n",
      "5\n",
      "6\n",
      "7\n",
      "8\n",
      "9\n",
      "10\n",
      "55\n"
     ]
    }
   ],
   "source": [
    "#a\n",
    "for i in range (1,11):\n",
    "    print(i)\n",
    "#b\n",
    "a = 0\n",
    "for i in range (1,11):\n",
    "    a += i\n",
    "print(a)"
   ]
  },
  {
   "cell_type": "markdown",
   "id": "fe210e58",
   "metadata": {},
   "source": [
    "## Cell 5: `while` loops and loop control (`break`, `continue`)"
   ]
  },
  {
   "cell_type": "markdown",
   "id": "e2ff6b31",
   "metadata": {},
   "source": [
    "Use a `while` loop to count from 1 upwards.\n",
    "\n",
    "- If count reaches 3, skip printing (use continue).\n",
    "\n",
    "- If count reaches 7, stop the loop (use break).\n",
    "\n",
    "- Otherwise, print the current count.\n"
   ]
  },
  {
   "cell_type": "code",
   "execution_count": 14,
   "id": "6d784b0d",
   "metadata": {},
   "outputs": [
    {
     "name": "stdout",
     "output_type": "stream",
     "text": [
      "1\n",
      "2\n",
      "4\n",
      "5\n",
      "6\n"
     ]
    }
   ],
   "source": [
    "i = 0\n",
    "while i < 6:\n",
    "    i += 1\n",
    "    if i == 3:\n",
    "        continue\n",
    "    print(i)\n",
    "    "
   ]
  }
 ],
 "metadata": {
  "kernelspec": {
   "display_name": "Python 3",
   "language": "python",
   "name": "python3"
  },
  "language_info": {
   "codemirror_mode": {
    "name": "ipython",
    "version": 3
   },
   "file_extension": ".py",
   "mimetype": "text/x-python",
   "name": "python",
   "nbconvert_exporter": "python",
   "pygments_lexer": "ipython3",
   "version": "3.13.3"
  }
 },
 "nbformat": 4,
 "nbformat_minor": 5
}
